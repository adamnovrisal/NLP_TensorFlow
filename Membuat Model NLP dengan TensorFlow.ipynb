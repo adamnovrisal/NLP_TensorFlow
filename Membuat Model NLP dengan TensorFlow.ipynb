{
  "cells": [
    {
      "cell_type": "code",
      "execution_count": 1,
      "id": "a15ee745",
      "metadata": {
        "id": "a15ee745"
      },
      "outputs": [],
      "source": [
        "import pandas as pd\n",
        "import numpy as np\n",
        "from textblob import TextBlob\n",
        "import nltk, os, re, string\n",
        "import tensorflow as tf\n",
        "from tensorflow.keras.preprocessing.sequence import pad_sequences\n",
        "from tensorflow.keras.preprocessing.text import Tokenizer\n",
        "from nltk.corpus import stopwords\n",
        "from nltk.stem import WordNetLemmatizer\n",
        "from nltk.corpus import wordnet as wn\n",
        "from cleantext import clean\n",
        "from sklearn.model_selection import train_test_split\n",
        "\n",
        "# from tensorflow.keras.layers import Input, LSTM, Bidirectional, SpatialDropout1D, Dropout, Flatten, Dense, Embedding, BatchNormalization\n",
        "# from tensorflow.keras.models import Model\n",
        "# from tensorflow.keras.callbacks import EarlyStopping"
      ]
    },
    {
      "cell_type": "code",
      "execution_count": 2,
      "id": "0ad5fd75",
      "metadata": {
        "colab": {
          "base_uri": "https://localhost:8080/",
          "height": 206
        },
        "id": "0ad5fd75",
        "outputId": "a7418675-9fc8-4b3c-f1bf-70b0594f2822"
      },
      "outputs": [
        {
          "output_type": "execute_result",
          "data": {
            "text/plain": [
              "              user                                               text  \\\n",
              "7498       ianhryd                                    Min, bales min    \n",
              "7499  Stallonation  @MyRepublicID dear admin, untuk di daerah Pasa...   \n",
              "7500        b4ngda  @MyRepublicID keluhan gw cuman satu....gw gak ...   \n",
              "7501       Drant44                 @MyRepublicID masih perbaikan kah?   \n",
              "7502  GibrunNodros                             @MyRepublicID lemot lu   \n",
              "\n",
              "           fullname                  id            timestamp  \n",
              "7498              👽  886478646042435585  2017-07-16T06:52:33  \n",
              "7499  Stallone Tjia  886478794038562816  2017-07-16T06:53:09  \n",
              "7500         bangda  886480325727010817  2017-07-16T06:59:14  \n",
              "7501          Drant  886482211976790016  2017-07-16T07:06:44  \n",
              "7502         Gibran  886482370714402820  2017-07-16T07:07:21  "
            ],
            "text/html": [
              "\n",
              "  <div id=\"df-da95467e-d44a-47d9-8fcb-3c7316ff22f5\">\n",
              "    <div class=\"colab-df-container\">\n",
              "      <div>\n",
              "<style scoped>\n",
              "    .dataframe tbody tr th:only-of-type {\n",
              "        vertical-align: middle;\n",
              "    }\n",
              "\n",
              "    .dataframe tbody tr th {\n",
              "        vertical-align: top;\n",
              "    }\n",
              "\n",
              "    .dataframe thead th {\n",
              "        text-align: right;\n",
              "    }\n",
              "</style>\n",
              "<table border=\"1\" class=\"dataframe\">\n",
              "  <thead>\n",
              "    <tr style=\"text-align: right;\">\n",
              "      <th></th>\n",
              "      <th>user</th>\n",
              "      <th>text</th>\n",
              "      <th>fullname</th>\n",
              "      <th>id</th>\n",
              "      <th>timestamp</th>\n",
              "    </tr>\n",
              "  </thead>\n",
              "  <tbody>\n",
              "    <tr>\n",
              "      <th>7498</th>\n",
              "      <td>ianhryd</td>\n",
              "      <td>Min, bales min</td>\n",
              "      <td>👽</td>\n",
              "      <td>886478646042435585</td>\n",
              "      <td>2017-07-16T06:52:33</td>\n",
              "    </tr>\n",
              "    <tr>\n",
              "      <th>7499</th>\n",
              "      <td>Stallonation</td>\n",
              "      <td>@MyRepublicID dear admin, untuk di daerah Pasa...</td>\n",
              "      <td>Stallone Tjia</td>\n",
              "      <td>886478794038562816</td>\n",
              "      <td>2017-07-16T06:53:09</td>\n",
              "    </tr>\n",
              "    <tr>\n",
              "      <th>7500</th>\n",
              "      <td>b4ngda</td>\n",
              "      <td>@MyRepublicID keluhan gw cuman satu....gw gak ...</td>\n",
              "      <td>bangda</td>\n",
              "      <td>886480325727010817</td>\n",
              "      <td>2017-07-16T06:59:14</td>\n",
              "    </tr>\n",
              "    <tr>\n",
              "      <th>7501</th>\n",
              "      <td>Drant44</td>\n",
              "      <td>@MyRepublicID masih perbaikan kah?</td>\n",
              "      <td>Drant</td>\n",
              "      <td>886482211976790016</td>\n",
              "      <td>2017-07-16T07:06:44</td>\n",
              "    </tr>\n",
              "    <tr>\n",
              "      <th>7502</th>\n",
              "      <td>GibrunNodros</td>\n",
              "      <td>@MyRepublicID lemot lu</td>\n",
              "      <td>Gibran</td>\n",
              "      <td>886482370714402820</td>\n",
              "      <td>2017-07-16T07:07:21</td>\n",
              "    </tr>\n",
              "  </tbody>\n",
              "</table>\n",
              "</div>\n",
              "      <button class=\"colab-df-convert\" onclick=\"convertToInteractive('df-da95467e-d44a-47d9-8fcb-3c7316ff22f5')\"\n",
              "              title=\"Convert this dataframe to an interactive table.\"\n",
              "              style=\"display:none;\">\n",
              "        \n",
              "  <svg xmlns=\"http://www.w3.org/2000/svg\" height=\"24px\"viewBox=\"0 0 24 24\"\n",
              "       width=\"24px\">\n",
              "    <path d=\"M0 0h24v24H0V0z\" fill=\"none\"/>\n",
              "    <path d=\"M18.56 5.44l.94 2.06.94-2.06 2.06-.94-2.06-.94-.94-2.06-.94 2.06-2.06.94zm-11 1L8.5 8.5l.94-2.06 2.06-.94-2.06-.94L8.5 2.5l-.94 2.06-2.06.94zm10 10l.94 2.06.94-2.06 2.06-.94-2.06-.94-.94-2.06-.94 2.06-2.06.94z\"/><path d=\"M17.41 7.96l-1.37-1.37c-.4-.4-.92-.59-1.43-.59-.52 0-1.04.2-1.43.59L10.3 9.45l-7.72 7.72c-.78.78-.78 2.05 0 2.83L4 21.41c.39.39.9.59 1.41.59.51 0 1.02-.2 1.41-.59l7.78-7.78 2.81-2.81c.8-.78.8-2.07 0-2.86zM5.41 20L4 18.59l7.72-7.72 1.47 1.35L5.41 20z\"/>\n",
              "  </svg>\n",
              "      </button>\n",
              "      \n",
              "  <style>\n",
              "    .colab-df-container {\n",
              "      display:flex;\n",
              "      flex-wrap:wrap;\n",
              "      gap: 12px;\n",
              "    }\n",
              "\n",
              "    .colab-df-convert {\n",
              "      background-color: #E8F0FE;\n",
              "      border: none;\n",
              "      border-radius: 50%;\n",
              "      cursor: pointer;\n",
              "      display: none;\n",
              "      fill: #1967D2;\n",
              "      height: 32px;\n",
              "      padding: 0 0 0 0;\n",
              "      width: 32px;\n",
              "    }\n",
              "\n",
              "    .colab-df-convert:hover {\n",
              "      background-color: #E2EBFA;\n",
              "      box-shadow: 0px 1px 2px rgba(60, 64, 67, 0.3), 0px 1px 3px 1px rgba(60, 64, 67, 0.15);\n",
              "      fill: #174EA6;\n",
              "    }\n",
              "\n",
              "    [theme=dark] .colab-df-convert {\n",
              "      background-color: #3B4455;\n",
              "      fill: #D2E3FC;\n",
              "    }\n",
              "\n",
              "    [theme=dark] .colab-df-convert:hover {\n",
              "      background-color: #434B5C;\n",
              "      box-shadow: 0px 1px 3px 1px rgba(0, 0, 0, 0.15);\n",
              "      filter: drop-shadow(0px 1px 2px rgba(0, 0, 0, 0.3));\n",
              "      fill: #FFFFFF;\n",
              "    }\n",
              "  </style>\n",
              "\n",
              "      <script>\n",
              "        const buttonEl =\n",
              "          document.querySelector('#df-da95467e-d44a-47d9-8fcb-3c7316ff22f5 button.colab-df-convert');\n",
              "        buttonEl.style.display =\n",
              "          google.colab.kernel.accessAllowed ? 'block' : 'none';\n",
              "\n",
              "        async function convertToInteractive(key) {\n",
              "          const element = document.querySelector('#df-da95467e-d44a-47d9-8fcb-3c7316ff22f5');\n",
              "          const dataTable =\n",
              "            await google.colab.kernel.invokeFunction('convertToInteractive',\n",
              "                                                     [key], {});\n",
              "          if (!dataTable) return;\n",
              "\n",
              "          const docLinkHtml = 'Like what you see? Visit the ' +\n",
              "            '<a target=\"_blank\" href=https://colab.research.google.com/notebooks/data_table.ipynb>data table notebook</a>'\n",
              "            + ' to learn more about interactive tables.';\n",
              "          element.innerHTML = '';\n",
              "          dataTable['output_type'] = 'display_data';\n",
              "          await google.colab.output.renderOutput(dataTable, element);\n",
              "          const docLink = document.createElement('div');\n",
              "          docLink.innerHTML = docLinkHtml;\n",
              "          element.appendChild(docLink);\n",
              "        }\n",
              "      </script>\n",
              "    </div>\n",
              "  </div>\n",
              "  "
            ]
          },
          "metadata": {},
          "execution_count": 2
        }
      ],
      "source": [
        "# load Dataset\n",
        "df = pd.read_csv('mr.csv', header = 0, encoding='utf8')\n",
        "df.tail()"
      ]
    },
    {
      "cell_type": "code",
      "execution_count": 3,
      "id": "2d87e5d2",
      "metadata": {
        "id": "2d87e5d2"
      },
      "outputs": [],
      "source": [
        "df = df.drop(['user','fullname','id','timestamp'], axis = 1)"
      ]
    },
    {
      "cell_type": "code",
      "execution_count": 4,
      "id": "4d8d4444",
      "metadata": {
        "id": "4d8d4444"
      },
      "outputs": [],
      "source": [
        "df['text'] = df['text'].astype('str') "
      ]
    },
    {
      "cell_type": "code",
      "execution_count": 5,
      "id": "04a7e573",
      "metadata": {
        "id": "04a7e573"
      },
      "outputs": [],
      "source": [
        "def analyze_sentiment(text):\n",
        "    analysis = TextBlob(text)\n",
        "    if analysis.sentiment.polarity > 0:\n",
        "        return 'Positif'\n",
        "    elif analysis.sentiment.polarity < 0:\n",
        "        return 'Negatif'\n",
        "    else:\n",
        "        return 'Netral'"
      ]
    },
    {
      "cell_type": "code",
      "execution_count": 6,
      "id": "ba7c42b7",
      "metadata": {
        "colab": {
          "base_uri": "https://localhost:8080/",
          "height": 206
        },
        "id": "ba7c42b7",
        "outputId": "e5b985ae-6e72-46d3-ed1f-8e8f66de2471"
      },
      "outputs": [
        {
          "output_type": "execute_result",
          "data": {
            "text/plain": [
              "                                                   text sentiment\n",
              "7498                                    Min, bales min     Netral\n",
              "7499  @MyRepublicID dear admin, untuk di daerah Pasa...    Netral\n",
              "7500  @MyRepublicID keluhan gw cuman satu....gw gak ...    Netral\n",
              "7501                 @MyRepublicID masih perbaikan kah?    Netral\n",
              "7502                             @MyRepublicID lemot lu    Netral"
            ],
            "text/html": [
              "\n",
              "  <div id=\"df-c5333ca3-b996-4794-a574-3a94f2670a71\">\n",
              "    <div class=\"colab-df-container\">\n",
              "      <div>\n",
              "<style scoped>\n",
              "    .dataframe tbody tr th:only-of-type {\n",
              "        vertical-align: middle;\n",
              "    }\n",
              "\n",
              "    .dataframe tbody tr th {\n",
              "        vertical-align: top;\n",
              "    }\n",
              "\n",
              "    .dataframe thead th {\n",
              "        text-align: right;\n",
              "    }\n",
              "</style>\n",
              "<table border=\"1\" class=\"dataframe\">\n",
              "  <thead>\n",
              "    <tr style=\"text-align: right;\">\n",
              "      <th></th>\n",
              "      <th>text</th>\n",
              "      <th>sentiment</th>\n",
              "    </tr>\n",
              "  </thead>\n",
              "  <tbody>\n",
              "    <tr>\n",
              "      <th>7498</th>\n",
              "      <td>Min, bales min</td>\n",
              "      <td>Netral</td>\n",
              "    </tr>\n",
              "    <tr>\n",
              "      <th>7499</th>\n",
              "      <td>@MyRepublicID dear admin, untuk di daerah Pasa...</td>\n",
              "      <td>Netral</td>\n",
              "    </tr>\n",
              "    <tr>\n",
              "      <th>7500</th>\n",
              "      <td>@MyRepublicID keluhan gw cuman satu....gw gak ...</td>\n",
              "      <td>Netral</td>\n",
              "    </tr>\n",
              "    <tr>\n",
              "      <th>7501</th>\n",
              "      <td>@MyRepublicID masih perbaikan kah?</td>\n",
              "      <td>Netral</td>\n",
              "    </tr>\n",
              "    <tr>\n",
              "      <th>7502</th>\n",
              "      <td>@MyRepublicID lemot lu</td>\n",
              "      <td>Netral</td>\n",
              "    </tr>\n",
              "  </tbody>\n",
              "</table>\n",
              "</div>\n",
              "      <button class=\"colab-df-convert\" onclick=\"convertToInteractive('df-c5333ca3-b996-4794-a574-3a94f2670a71')\"\n",
              "              title=\"Convert this dataframe to an interactive table.\"\n",
              "              style=\"display:none;\">\n",
              "        \n",
              "  <svg xmlns=\"http://www.w3.org/2000/svg\" height=\"24px\"viewBox=\"0 0 24 24\"\n",
              "       width=\"24px\">\n",
              "    <path d=\"M0 0h24v24H0V0z\" fill=\"none\"/>\n",
              "    <path d=\"M18.56 5.44l.94 2.06.94-2.06 2.06-.94-2.06-.94-.94-2.06-.94 2.06-2.06.94zm-11 1L8.5 8.5l.94-2.06 2.06-.94-2.06-.94L8.5 2.5l-.94 2.06-2.06.94zm10 10l.94 2.06.94-2.06 2.06-.94-2.06-.94-.94-2.06-.94 2.06-2.06.94z\"/><path d=\"M17.41 7.96l-1.37-1.37c-.4-.4-.92-.59-1.43-.59-.52 0-1.04.2-1.43.59L10.3 9.45l-7.72 7.72c-.78.78-.78 2.05 0 2.83L4 21.41c.39.39.9.59 1.41.59.51 0 1.02-.2 1.41-.59l7.78-7.78 2.81-2.81c.8-.78.8-2.07 0-2.86zM5.41 20L4 18.59l7.72-7.72 1.47 1.35L5.41 20z\"/>\n",
              "  </svg>\n",
              "      </button>\n",
              "      \n",
              "  <style>\n",
              "    .colab-df-container {\n",
              "      display:flex;\n",
              "      flex-wrap:wrap;\n",
              "      gap: 12px;\n",
              "    }\n",
              "\n",
              "    .colab-df-convert {\n",
              "      background-color: #E8F0FE;\n",
              "      border: none;\n",
              "      border-radius: 50%;\n",
              "      cursor: pointer;\n",
              "      display: none;\n",
              "      fill: #1967D2;\n",
              "      height: 32px;\n",
              "      padding: 0 0 0 0;\n",
              "      width: 32px;\n",
              "    }\n",
              "\n",
              "    .colab-df-convert:hover {\n",
              "      background-color: #E2EBFA;\n",
              "      box-shadow: 0px 1px 2px rgba(60, 64, 67, 0.3), 0px 1px 3px 1px rgba(60, 64, 67, 0.15);\n",
              "      fill: #174EA6;\n",
              "    }\n",
              "\n",
              "    [theme=dark] .colab-df-convert {\n",
              "      background-color: #3B4455;\n",
              "      fill: #D2E3FC;\n",
              "    }\n",
              "\n",
              "    [theme=dark] .colab-df-convert:hover {\n",
              "      background-color: #434B5C;\n",
              "      box-shadow: 0px 1px 3px 1px rgba(0, 0, 0, 0.15);\n",
              "      filter: drop-shadow(0px 1px 2px rgba(0, 0, 0, 0.3));\n",
              "      fill: #FFFFFF;\n",
              "    }\n",
              "  </style>\n",
              "\n",
              "      <script>\n",
              "        const buttonEl =\n",
              "          document.querySelector('#df-c5333ca3-b996-4794-a574-3a94f2670a71 button.colab-df-convert');\n",
              "        buttonEl.style.display =\n",
              "          google.colab.kernel.accessAllowed ? 'block' : 'none';\n",
              "\n",
              "        async function convertToInteractive(key) {\n",
              "          const element = document.querySelector('#df-c5333ca3-b996-4794-a574-3a94f2670a71');\n",
              "          const dataTable =\n",
              "            await google.colab.kernel.invokeFunction('convertToInteractive',\n",
              "                                                     [key], {});\n",
              "          if (!dataTable) return;\n",
              "\n",
              "          const docLinkHtml = 'Like what you see? Visit the ' +\n",
              "            '<a target=\"_blank\" href=https://colab.research.google.com/notebooks/data_table.ipynb>data table notebook</a>'\n",
              "            + ' to learn more about interactive tables.';\n",
              "          element.innerHTML = '';\n",
              "          dataTable['output_type'] = 'display_data';\n",
              "          await google.colab.output.renderOutput(dataTable, element);\n",
              "          const docLink = document.createElement('div');\n",
              "          docLink.innerHTML = docLinkHtml;\n",
              "          element.appendChild(docLink);\n",
              "        }\n",
              "      </script>\n",
              "    </div>\n",
              "  </div>\n",
              "  "
            ]
          },
          "metadata": {},
          "execution_count": 6
        }
      ],
      "source": [
        "df[\"sentiment\"] = df[\"text\"].apply(lambda x : analyze_sentiment(x))\n",
        "df.tail()"
      ]
    },
    {
      "cell_type": "markdown",
      "id": "629b7bd7",
      "metadata": {
        "id": "629b7bd7"
      },
      "source": [
        "# Cleansing Data"
      ]
    },
    {
      "cell_type": "code",
      "execution_count": 7,
      "id": "395e3b42",
      "metadata": {
        "id": "395e3b42"
      },
      "outputs": [],
      "source": [
        "def data(text):\n",
        "    text = clean(text,\n",
        "                 no_punct=True,\n",
        "                 lower=True,\n",
        "                 no_emoji=True,\n",
        "                 normalize_whitespace=True\n",
        "                )\n",
        "    \n",
        "    return text"
      ]
    },
    {
      "cell_type": "code",
      "execution_count": 8,
      "id": "d67f7b76",
      "metadata": {
        "id": "d67f7b76"
      },
      "outputs": [],
      "source": [
        "# Remove mentions\n",
        "regex_mentions = r\"@[A-Za-z0-9_]+\"\n",
        "# Remove links\n",
        "regex_links = r\"https?://[A-Za-z0-9./]+\"\n",
        "# Remove some special characters\n",
        "regex_special = r\"[^A-Za-z0-9]+\"\n",
        "# Remove numbers \n",
        "regex_numbers = r\"[0-9]+\"\n",
        "# Remove ordinals \n",
        "regex_ordinals = r\"[0-9]+(?:st| st|nd| nd|rd| rd|th| th)\""
      ]
    },
    {
      "cell_type": "code",
      "execution_count": 9,
      "id": "27e20e71",
      "metadata": {
        "id": "27e20e71"
      },
      "outputs": [],
      "source": [
        "# Remove mentions\n",
        "df.text = df.text.apply(lambda x: re.sub(regex_mentions, \" \", str(x).strip()))\n",
        "# Remove links \n",
        "df.text = df.text.apply(lambda x: re.sub(regex_links, \" \", str(x).strip()))\n",
        "# Remove special characters\n",
        "df.text = df.text.apply(lambda x: re.sub(regex_special, \" \", str(x).strip()))\n",
        "# Remove ordinals\n",
        "df.text = df.text.apply(lambda x: re.sub(regex_ordinals, \" \", str(x).strip()))\n",
        "# Remove numbers \n",
        "df.text = df.text.apply(lambda x: re.sub(regex_numbers, \" \", str(x).strip()))\n",
        "# Clean tweets\n",
        "df.text = df.text.apply(lambda x: data(x)) "
      ]
    },
    {
      "cell_type": "code",
      "execution_count": 10,
      "id": "bb4bd162",
      "metadata": {
        "colab": {
          "base_uri": "https://localhost:8080/",
          "height": 206
        },
        "id": "bb4bd162",
        "outputId": "7db1e7a0-00a7-44f5-aa1c-d68b1f287074"
      },
      "outputs": [
        {
          "output_type": "execute_result",
          "data": {
            "text/plain": [
              "                                                   text  Negatif  Netral  \\\n",
              "7498                                      min bales min        0       1   \n",
              "7499  dear admin untuk di daerah pasar baru jakarta ...        0       1   \n",
              "7500  keluhan gw cuman satu gw gak langganan myrepub...        0       1   \n",
              "7501                                masih perbaikan kah        0       1   \n",
              "7502                                           lemot lu        0       1   \n",
              "\n",
              "      Positif  \n",
              "7498        0  \n",
              "7499        0  \n",
              "7500        0  \n",
              "7501        0  \n",
              "7502        0  "
            ],
            "text/html": [
              "\n",
              "  <div id=\"df-b29ce639-8d22-4c3e-a478-4565447b7265\">\n",
              "    <div class=\"colab-df-container\">\n",
              "      <div>\n",
              "<style scoped>\n",
              "    .dataframe tbody tr th:only-of-type {\n",
              "        vertical-align: middle;\n",
              "    }\n",
              "\n",
              "    .dataframe tbody tr th {\n",
              "        vertical-align: top;\n",
              "    }\n",
              "\n",
              "    .dataframe thead th {\n",
              "        text-align: right;\n",
              "    }\n",
              "</style>\n",
              "<table border=\"1\" class=\"dataframe\">\n",
              "  <thead>\n",
              "    <tr style=\"text-align: right;\">\n",
              "      <th></th>\n",
              "      <th>text</th>\n",
              "      <th>Negatif</th>\n",
              "      <th>Netral</th>\n",
              "      <th>Positif</th>\n",
              "    </tr>\n",
              "  </thead>\n",
              "  <tbody>\n",
              "    <tr>\n",
              "      <th>7498</th>\n",
              "      <td>min bales min</td>\n",
              "      <td>0</td>\n",
              "      <td>1</td>\n",
              "      <td>0</td>\n",
              "    </tr>\n",
              "    <tr>\n",
              "      <th>7499</th>\n",
              "      <td>dear admin untuk di daerah pasar baru jakarta ...</td>\n",
              "      <td>0</td>\n",
              "      <td>1</td>\n",
              "      <td>0</td>\n",
              "    </tr>\n",
              "    <tr>\n",
              "      <th>7500</th>\n",
              "      <td>keluhan gw cuman satu gw gak langganan myrepub...</td>\n",
              "      <td>0</td>\n",
              "      <td>1</td>\n",
              "      <td>0</td>\n",
              "    </tr>\n",
              "    <tr>\n",
              "      <th>7501</th>\n",
              "      <td>masih perbaikan kah</td>\n",
              "      <td>0</td>\n",
              "      <td>1</td>\n",
              "      <td>0</td>\n",
              "    </tr>\n",
              "    <tr>\n",
              "      <th>7502</th>\n",
              "      <td>lemot lu</td>\n",
              "      <td>0</td>\n",
              "      <td>1</td>\n",
              "      <td>0</td>\n",
              "    </tr>\n",
              "  </tbody>\n",
              "</table>\n",
              "</div>\n",
              "      <button class=\"colab-df-convert\" onclick=\"convertToInteractive('df-b29ce639-8d22-4c3e-a478-4565447b7265')\"\n",
              "              title=\"Convert this dataframe to an interactive table.\"\n",
              "              style=\"display:none;\">\n",
              "        \n",
              "  <svg xmlns=\"http://www.w3.org/2000/svg\" height=\"24px\"viewBox=\"0 0 24 24\"\n",
              "       width=\"24px\">\n",
              "    <path d=\"M0 0h24v24H0V0z\" fill=\"none\"/>\n",
              "    <path d=\"M18.56 5.44l.94 2.06.94-2.06 2.06-.94-2.06-.94-.94-2.06-.94 2.06-2.06.94zm-11 1L8.5 8.5l.94-2.06 2.06-.94-2.06-.94L8.5 2.5l-.94 2.06-2.06.94zm10 10l.94 2.06.94-2.06 2.06-.94-2.06-.94-.94-2.06-.94 2.06-2.06.94z\"/><path d=\"M17.41 7.96l-1.37-1.37c-.4-.4-.92-.59-1.43-.59-.52 0-1.04.2-1.43.59L10.3 9.45l-7.72 7.72c-.78.78-.78 2.05 0 2.83L4 21.41c.39.39.9.59 1.41.59.51 0 1.02-.2 1.41-.59l7.78-7.78 2.81-2.81c.8-.78.8-2.07 0-2.86zM5.41 20L4 18.59l7.72-7.72 1.47 1.35L5.41 20z\"/>\n",
              "  </svg>\n",
              "      </button>\n",
              "      \n",
              "  <style>\n",
              "    .colab-df-container {\n",
              "      display:flex;\n",
              "      flex-wrap:wrap;\n",
              "      gap: 12px;\n",
              "    }\n",
              "\n",
              "    .colab-df-convert {\n",
              "      background-color: #E8F0FE;\n",
              "      border: none;\n",
              "      border-radius: 50%;\n",
              "      cursor: pointer;\n",
              "      display: none;\n",
              "      fill: #1967D2;\n",
              "      height: 32px;\n",
              "      padding: 0 0 0 0;\n",
              "      width: 32px;\n",
              "    }\n",
              "\n",
              "    .colab-df-convert:hover {\n",
              "      background-color: #E2EBFA;\n",
              "      box-shadow: 0px 1px 2px rgba(60, 64, 67, 0.3), 0px 1px 3px 1px rgba(60, 64, 67, 0.15);\n",
              "      fill: #174EA6;\n",
              "    }\n",
              "\n",
              "    [theme=dark] .colab-df-convert {\n",
              "      background-color: #3B4455;\n",
              "      fill: #D2E3FC;\n",
              "    }\n",
              "\n",
              "    [theme=dark] .colab-df-convert:hover {\n",
              "      background-color: #434B5C;\n",
              "      box-shadow: 0px 1px 3px 1px rgba(0, 0, 0, 0.15);\n",
              "      filter: drop-shadow(0px 1px 2px rgba(0, 0, 0, 0.3));\n",
              "      fill: #FFFFFF;\n",
              "    }\n",
              "  </style>\n",
              "\n",
              "      <script>\n",
              "        const buttonEl =\n",
              "          document.querySelector('#df-b29ce639-8d22-4c3e-a478-4565447b7265 button.colab-df-convert');\n",
              "        buttonEl.style.display =\n",
              "          google.colab.kernel.accessAllowed ? 'block' : 'none';\n",
              "\n",
              "        async function convertToInteractive(key) {\n",
              "          const element = document.querySelector('#df-b29ce639-8d22-4c3e-a478-4565447b7265');\n",
              "          const dataTable =\n",
              "            await google.colab.kernel.invokeFunction('convertToInteractive',\n",
              "                                                     [key], {});\n",
              "          if (!dataTable) return;\n",
              "\n",
              "          const docLinkHtml = 'Like what you see? Visit the ' +\n",
              "            '<a target=\"_blank\" href=https://colab.research.google.com/notebooks/data_table.ipynb>data table notebook</a>'\n",
              "            + ' to learn more about interactive tables.';\n",
              "          element.innerHTML = '';\n",
              "          dataTable['output_type'] = 'display_data';\n",
              "          await google.colab.output.renderOutput(dataTable, element);\n",
              "          const docLink = document.createElement('div');\n",
              "          docLink.innerHTML = docLinkHtml;\n",
              "          element.appendChild(docLink);\n",
              "        }\n",
              "      </script>\n",
              "    </div>\n",
              "  </div>\n",
              "  "
            ]
          },
          "metadata": {},
          "execution_count": 10
        }
      ],
      "source": [
        "# data category one-hot-encoding\n",
        "sentiment = pd.get_dummies(df.sentiment)\n",
        "new = pd.concat([df, sentiment], axis=1)\n",
        "new = new.drop(columns='sentiment')\n",
        "new.tail()"
      ]
    },
    {
      "cell_type": "code",
      "execution_count": 12,
      "id": "ad0e1506",
      "metadata": {
        "id": "ad0e1506"
      },
      "outputs": [],
      "source": [
        "# change dataframe value to numpy array\n",
        "X = new['text'].values\n",
        "y = new[['Negatif', 'Netral', 'Positif']].values"
      ]
    },
    {
      "cell_type": "code",
      "execution_count": 13,
      "id": "0772c9f8",
      "metadata": {
        "id": "0772c9f8"
      },
      "outputs": [],
      "source": [
        "# Split data into training and validation\n",
        "X_train, X_test, y_train, y_test = train_test_split(X, y, test_size=0.2, shuffle=True)"
      ]
    },
    {
      "cell_type": "code",
      "execution_count": 14,
      "id": "855b469f",
      "metadata": {
        "id": "855b469f"
      },
      "outputs": [],
      "source": [
        "# tokenizer\n",
        "tokenizer = Tokenizer(num_words=5000, oov_token='x', filters='!\"#$%&()*+,-./:;<=>@[\\]^_`{|}~ ')\n",
        "tokenizer.fit_on_texts(X_train) \n",
        "tokenizer.fit_on_texts(X_test)\n",
        " \n",
        "S_train = tokenizer.texts_to_sequences(X_train)\n",
        "S_test = tokenizer.texts_to_sequences(X_test)\n",
        " \n",
        "P_train = pad_sequences(S_train) \n",
        "P_test = pad_sequences(S_test)"
      ]
    },
    {
      "cell_type": "code",
      "execution_count": 19,
      "id": "6f02c144",
      "metadata": {
        "colab": {
          "base_uri": "https://localhost:8080/"
        },
        "id": "6f02c144",
        "outputId": "a8f40b77-fbb4-4c7c-cbfa-ae3210d8246d"
      },
      "outputs": [
        {
          "output_type": "stream",
          "name": "stdout",
          "text": [
            "Model: \"sequential_2\"\n",
            "_________________________________________________________________\n",
            " Layer (type)                Output Shape              Param #   \n",
            "=================================================================\n",
            " embedding_2 (Embedding)     (None, None, 64)          320000    \n",
            "                                                                 \n",
            " lstm_2 (LSTM)               (None, 128)               98816     \n",
            "                                                                 \n",
            " dense_4 (Dense)             (None, 128)               16512     \n",
            "                                                                 \n",
            " dropout_2 (Dropout)         (None, 128)               0         \n",
            "                                                                 \n",
            " dense_5 (Dense)             (None, 3)                 387       \n",
            "                                                                 \n",
            "=================================================================\n",
            "Total params: 435,715\n",
            "Trainable params: 435,715\n",
            "Non-trainable params: 0\n",
            "_________________________________________________________________\n"
          ]
        }
      ],
      "source": [
        "# model\n",
        "model = tf.keras.Sequential([\n",
        "    tf.keras.layers.Embedding(input_dim=5000, output_dim=64),\n",
        "    tf.keras.layers.LSTM(128),\n",
        "    tf.keras.layers.Dense(128, activation='relu'),\n",
        "    tf.keras.layers.Dropout(0.5),\n",
        "    tf.keras.layers.Dense(3, activation='softmax')\n",
        "])\n",
        "model.compile(optimizer='adam',\n",
        "              metrics=['accuracy'],\n",
        "              loss='categorical_crossentropy',)\n",
        "model.summary()"
      ]
    },
    {
      "cell_type": "code",
      "execution_count": 20,
      "id": "8cf55d49",
      "metadata": {
        "id": "8cf55d49"
      },
      "outputs": [],
      "source": [
        "# callback\n",
        "class myCallback(tf.keras.callbacks.Callback):\n",
        "  def on_epoch_end(self, epoch, logs={}):\n",
        "    if(logs.get('accuracy') > 0.9200 and logs.get('val_accuracy') > 0.9200):\n",
        "      self.model.stop_training = True\n",
        "      print(\"\\nHas Been Reached > 92% Accuracy!!!\")\n",
        "callbacks = myCallback()"
      ]
    },
    {
      "cell_type": "code",
      "execution_count": 21,
      "id": "c24f10b0",
      "metadata": {
        "colab": {
          "base_uri": "https://localhost:8080/"
        },
        "id": "c24f10b0",
        "outputId": "ee359762-a412-441e-ff4b-ee0581377f5b"
      },
      "outputs": [
        {
          "output_type": "stream",
          "name": "stdout",
          "text": [
            "Epoch 1/50\n",
            "188/188 - 15s - loss: 0.5327 - accuracy: 0.8481 - val_loss: 0.3745 - val_accuracy: 0.8894 - 15s/epoch - 82ms/step\n",
            "Epoch 2/50\n",
            "188/188 - 11s - loss: 0.2870 - accuracy: 0.9005 - val_loss: 0.2550 - val_accuracy: 0.9194 - 11s/epoch - 58ms/step\n",
            "Epoch 3/50\n",
            "\n",
            "Has Been Reached > 92% Accuracy!!!\n",
            "188/188 - 11s - loss: 0.1876 - accuracy: 0.9299 - val_loss: 0.2456 - val_accuracy: 0.9334 - 11s/epoch - 59ms/step\n"
          ]
        }
      ],
      "source": [
        "# model fit\n",
        "Hist = model.fit(P_train, y_train, epochs=50, \n",
        "                    validation_data=(P_test, y_test), verbose=2, callbacks=[callbacks], validation_steps=30)"
      ]
    },
    {
      "cell_type": "code",
      "source": [
        "# plot of accuracy\n",
        "import matplotlib.pyplot as plt\n",
        "plt.plot(Hist.history['accuracy'])\n",
        "plt.plot(Hist.history['val_accuracy'])\n",
        "plt.title('Model Accuracy')\n",
        "plt.ylabel('accuracy')\n",
        "plt.xlabel('epoch')\n",
        "plt.legend(['train', 'test'], loc='upper left')\n",
        "plt.show()"
      ],
      "metadata": {
        "colab": {
          "base_uri": "https://localhost:8080/",
          "height": 295
        },
        "id": "5to7JyEurY0L",
        "outputId": "02c54a7c-2804-4b90-f0f8-d39a95bb228f"
      },
      "id": "5to7JyEurY0L",
      "execution_count": 22,
      "outputs": [
        {
          "output_type": "display_data",
          "data": {
            "text/plain": [
              "<Figure size 432x288 with 1 Axes>"
            ],
            "image/png": "[encoded data removed]"
          },
          "metadata": {
            "needs_background": "light"
          }
        }
      ]
    },
    {
      "cell_type": "code",
      "source": [
        "# plot of loss\n",
        "plt.plot(Hist.history['loss'])\n",
        "plt.plot(Hist.history['val_loss'])\n",
        "plt.title('Model Loss')\n",
        "plt.ylabel('loss')\n",
        "plt.xlabel('epoch')\n",
        "plt.legend(['train', 'test'], loc='upper left')\n",
        "plt.show()"
      ],
      "metadata": {
        "colab": {
          "base_uri": "https://localhost:8080/",
          "height": 295
        },
        "id": "5prHjebPrYu5",
        "outputId": "43145dec-8de3-46af-bd63-80ffed9e7be2"
      },
      "id": "5prHjebPrYu5",
      "execution_count": 23,
      "outputs": [
        {
          "output_type": "display_data",
          "data": {
            "text/plain": [
              "<Figure size 432x288 with 1 Axes>"
            ],
            "image/png": "[encoded data removed]"
          },
          "metadata": {
            "needs_background": "light"
          }
        }
      ]
    }
  ],
  "metadata": {
    "kernelspec": {
      "display_name": "Python 3 (ipykernel)",
      "language": "python",
      "name": "python3"
    },
    "language_info": {
      "codemirror_mode": {
        "name": "ipython",
        "version": 3
      },
      "file_extension": ".py",
      "mimetype": "text/x-python",
      "name": "python",
      "nbconvert_exporter": "python",
      "pygments_lexer": "ipython3",
      "version": "3.10.4"
    },
    "colab": {
      "name": "Submission_NLP_MachineLearning.ipynb",
      "provenance": []
    }
  },
  "nbformat": 4,
  "nbformat_minor": 5
}